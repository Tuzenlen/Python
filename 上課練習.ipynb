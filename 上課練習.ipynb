{
  "nbformat": 4,
  "nbformat_minor": 0,
  "metadata": {
    "colab": {
      "provenance": [],
      "authorship_tag": "ABX9TyOPkVIt6EFHmywQuYTguzO5",
      "include_colab_link": true
    },
    "kernelspec": {
      "name": "python3",
      "display_name": "Python 3"
    },
    "language_info": {
      "name": "python"
    }
  },
  "cells": [
    {
      "cell_type": "markdown",
      "metadata": {
        "id": "view-in-github",
        "colab_type": "text"
      },
      "source": [
        "<a href=\"https://colab.research.google.com/github/Tuzenlen/Python/blob/main/%E4%B8%8A%E8%AA%B2%E7%B7%B4%E7%BF%92.ipynb\" target=\"_parent\"><img src=\"https://colab.research.google.com/assets/colab-badge.svg\" alt=\"Open In Colab\"/></a>"
      ]
    },
    {
      "cell_type": "code",
      "execution_count": null,
      "metadata": {
        "id": "QHwP-VDKB9OE"
      },
      "outputs": [],
      "source": [
        "#@title 訂購表單\n",
        "上衣300元 = 0 #@param\n",
        "上衣尺寸 = 'XL'#@param[\"F\",\"S\",\"M\",\"L\",\"XL\"]\n",
        "褲子350元 = 2 #@param\n",
        "背心400元 =1 #@param\n",
        "日期 = \"2024-03-06\" #@param{type:\"date\"}\n",
        "price = 500 #@param{type:\"slider\", min:300, max:500, step:100}\n",
        "\n",
        "print(\"總金額: \",上衣300元*300+褲子350元*350+背心400元*400,\"元\")\n"
      ]
    }
  ]
}